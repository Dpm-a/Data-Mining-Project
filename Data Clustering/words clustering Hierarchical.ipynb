{
 "cells": [
  {
   "cell_type": "code",
   "execution_count": 2,
   "metadata": {},
   "outputs": [],
   "source": [
    "%matplotlib inline\n",
    "\n",
    "import numpy as np\n",
    "import pandas as pd\n",
    "import matplotlib.pyplot as plt\n",
    "\n",
    "from pandas.plotting import scatter_matrix\n",
    "from sklearn.preprocessing import StandardScaler, MinMaxScaler\n",
    "\n",
    "from sklearn.cluster import KMeans\n",
    "from sklearn.metrics import silhouette_score\n",
    "\n",
    "from scipy.stats import mode\n",
    "from scipy.spatial.distance import pdist\n",
    "from scipy.cluster.hierarchy import linkage, dendrogram\n",
    "\n",
    "from sklearn.cluster import AgglomerativeClustering\n",
    "from scipy.spatial.distance import pdist, squareform"
   ]
  },
  {
   "cell_type": "code",
   "execution_count": 3,
   "metadata": {},
   "outputs": [],
   "source": [
    "df = pd.read_csv(\"words_glasgow.csv\")"
   ]
  },
  {
   "cell_type": "code",
   "execution_count": 4,
   "metadata": {},
   "outputs": [],
   "source": [
    "df['emotion']= (df['valence']+ df['dominance']) / 2\n",
    "df['visual'] = (df['concreteness']+ df['imageability']) / 2"
   ]
  },
  {
   "cell_type": "code",
   "execution_count": 5,
   "metadata": {},
   "outputs": [
    {
     "data": {
      "text/html": [
       "<div>\n",
       "<style scoped>\n",
       "    .dataframe tbody tr th:only-of-type {\n",
       "        vertical-align: middle;\n",
       "    }\n",
       "\n",
       "    .dataframe tbody tr th {\n",
       "        vertical-align: top;\n",
       "    }\n",
       "\n",
       "    .dataframe thead th {\n",
       "        text-align: right;\n",
       "    }\n",
       "</style>\n",
       "<table border=\"1\" class=\"dataframe\">\n",
       "  <thead>\n",
       "    <tr style=\"text-align: right;\">\n",
       "      <th></th>\n",
       "      <th>length</th>\n",
       "      <th>arousal</th>\n",
       "      <th>valence</th>\n",
       "      <th>dominance</th>\n",
       "      <th>concreteness</th>\n",
       "      <th>imageability</th>\n",
       "      <th>familiarity</th>\n",
       "      <th>aoa</th>\n",
       "      <th>semsize</th>\n",
       "      <th>gender</th>\n",
       "      <th>polysemy</th>\n",
       "      <th>emotion</th>\n",
       "      <th>visual</th>\n",
       "    </tr>\n",
       "  </thead>\n",
       "  <tbody>\n",
       "    <tr>\n",
       "      <th>0</th>\n",
       "      <td>8</td>\n",
       "      <td>4.200</td>\n",
       "      <td>2.864</td>\n",
       "      <td>4.333</td>\n",
       "      <td>5.455</td>\n",
       "      <td>4.391</td>\n",
       "      <td>2.382</td>\n",
       "      <td>6.760</td>\n",
       "      <td>4.652</td>\n",
       "      <td>5.391</td>\n",
       "      <td>0</td>\n",
       "      <td>3.5985</td>\n",
       "      <td>4.9230</td>\n",
       "    </tr>\n",
       "    <tr>\n",
       "      <th>1</th>\n",
       "      <td>5</td>\n",
       "      <td>3.125</td>\n",
       "      <td>5.781</td>\n",
       "      <td>4.667</td>\n",
       "      <td>5.906</td>\n",
       "      <td>5.344</td>\n",
       "      <td>3.324</td>\n",
       "      <td>5.177</td>\n",
       "      <td>5.121</td>\n",
       "      <td>3.303</td>\n",
       "      <td>0</td>\n",
       "      <td>5.2240</td>\n",
       "      <td>5.6250</td>\n",
       "    </tr>\n",
       "    <tr>\n",
       "      <th>2</th>\n",
       "      <td>10</td>\n",
       "      <td>3.273</td>\n",
       "      <td>5.250</td>\n",
       "      <td>5.235</td>\n",
       "      <td>3.286</td>\n",
       "      <td>3.177</td>\n",
       "      <td>5.121</td>\n",
       "      <td>5.543</td>\n",
       "      <td>2.667</td>\n",
       "      <td>3.971</td>\n",
       "      <td>0</td>\n",
       "      <td>5.2425</td>\n",
       "      <td>3.2315</td>\n",
       "    </tr>\n",
       "    <tr>\n",
       "      <th>3</th>\n",
       "      <td>8</td>\n",
       "      <td>4.194</td>\n",
       "      <td>3.767</td>\n",
       "      <td>4.419</td>\n",
       "      <td>3.367</td>\n",
       "      <td>2.516</td>\n",
       "      <td>3.971</td>\n",
       "      <td>6.233</td>\n",
       "      <td>4.679</td>\n",
       "      <td>5.167</td>\n",
       "      <td>0</td>\n",
       "      <td>4.0930</td>\n",
       "      <td>2.9415</td>\n",
       "    </tr>\n",
       "    <tr>\n",
       "      <th>4</th>\n",
       "      <td>10</td>\n",
       "      <td>3.846</td>\n",
       "      <td>3.880</td>\n",
       "      <td>4.800</td>\n",
       "      <td>3.292</td>\n",
       "      <td>2.571</td>\n",
       "      <td>3.097</td>\n",
       "      <td>6.407</td>\n",
       "      <td>5.083</td>\n",
       "      <td>4.571</td>\n",
       "      <td>0</td>\n",
       "      <td>4.3400</td>\n",
       "      <td>2.9315</td>\n",
       "    </tr>\n",
       "    <tr>\n",
       "      <th>...</th>\n",
       "      <td>...</td>\n",
       "      <td>...</td>\n",
       "      <td>...</td>\n",
       "      <td>...</td>\n",
       "      <td>...</td>\n",
       "      <td>...</td>\n",
       "      <td>...</td>\n",
       "      <td>...</td>\n",
       "      <td>...</td>\n",
       "      <td>...</td>\n",
       "      <td>...</td>\n",
       "      <td>...</td>\n",
       "      <td>...</td>\n",
       "    </tr>\n",
       "    <tr>\n",
       "      <th>4677</th>\n",
       "      <td>8</td>\n",
       "      <td>6.185</td>\n",
       "      <td>5.000</td>\n",
       "      <td>5.333</td>\n",
       "      <td>6.286</td>\n",
       "      <td>6.185</td>\n",
       "      <td>3.167</td>\n",
       "      <td>6.036</td>\n",
       "      <td>5.464</td>\n",
       "      <td>5.269</td>\n",
       "      <td>0</td>\n",
       "      <td>5.1665</td>\n",
       "      <td>6.2355</td>\n",
       "    </tr>\n",
       "    <tr>\n",
       "      <th>4678</th>\n",
       "      <td>4</td>\n",
       "      <td>4.031</td>\n",
       "      <td>4.182</td>\n",
       "      <td>4.567</td>\n",
       "      <td>2.688</td>\n",
       "      <td>3.903</td>\n",
       "      <td>6.269</td>\n",
       "      <td>2.636</td>\n",
       "      <td>1.758</td>\n",
       "      <td>4.172</td>\n",
       "      <td>0</td>\n",
       "      <td>4.3745</td>\n",
       "      <td>3.2955</td>\n",
       "    </tr>\n",
       "    <tr>\n",
       "      <th>4679</th>\n",
       "      <td>4</td>\n",
       "      <td>5.969</td>\n",
       "      <td>6.818</td>\n",
       "      <td>6.121</td>\n",
       "      <td>4.438</td>\n",
       "      <td>4.033</td>\n",
       "      <td>4.000</td>\n",
       "      <td>5.364</td>\n",
       "      <td>2.636</td>\n",
       "      <td>3.452</td>\n",
       "      <td>0</td>\n",
       "      <td>6.4695</td>\n",
       "      <td>4.2355</td>\n",
       "    </tr>\n",
       "    <tr>\n",
       "      <th>4680</th>\n",
       "      <td>3</td>\n",
       "      <td>5.909</td>\n",
       "      <td>6.235</td>\n",
       "      <td>5.485</td>\n",
       "      <td>6.118</td>\n",
       "      <td>6.441</td>\n",
       "      <td>5.655</td>\n",
       "      <td>2.324</td>\n",
       "      <td>4.844</td>\n",
       "      <td>4.059</td>\n",
       "      <td>0</td>\n",
       "      <td>5.8600</td>\n",
       "      <td>6.2795</td>\n",
       "    </tr>\n",
       "    <tr>\n",
       "      <th>4681</th>\n",
       "      <td>7</td>\n",
       "      <td>4.571</td>\n",
       "      <td>5.765</td>\n",
       "      <td>5.114</td>\n",
       "      <td>4.429</td>\n",
       "      <td>3.914</td>\n",
       "      <td>4.382</td>\n",
       "      <td>5.824</td>\n",
       "      <td>4.571</td>\n",
       "      <td>3.657</td>\n",
       "      <td>0</td>\n",
       "      <td>5.4395</td>\n",
       "      <td>4.1715</td>\n",
       "    </tr>\n",
       "  </tbody>\n",
       "</table>\n",
       "<p>4682 rows × 13 columns</p>\n",
       "</div>"
      ],
      "text/plain": [
       "      length  arousal  valence  dominance  concreteness  imageability  \\\n",
       "0          8    4.200    2.864      4.333         5.455         4.391   \n",
       "1          5    3.125    5.781      4.667         5.906         5.344   \n",
       "2         10    3.273    5.250      5.235         3.286         3.177   \n",
       "3          8    4.194    3.767      4.419         3.367         2.516   \n",
       "4         10    3.846    3.880      4.800         3.292         2.571   \n",
       "...      ...      ...      ...        ...           ...           ...   \n",
       "4677       8    6.185    5.000      5.333         6.286         6.185   \n",
       "4678       4    4.031    4.182      4.567         2.688         3.903   \n",
       "4679       4    5.969    6.818      6.121         4.438         4.033   \n",
       "4680       3    5.909    6.235      5.485         6.118         6.441   \n",
       "4681       7    4.571    5.765      5.114         4.429         3.914   \n",
       "\n",
       "      familiarity    aoa  semsize  gender  polysemy  emotion  visual  \n",
       "0           2.382  6.760    4.652   5.391         0   3.5985  4.9230  \n",
       "1           3.324  5.177    5.121   3.303         0   5.2240  5.6250  \n",
       "2           5.121  5.543    2.667   3.971         0   5.2425  3.2315  \n",
       "3           3.971  6.233    4.679   5.167         0   4.0930  2.9415  \n",
       "4           3.097  6.407    5.083   4.571         0   4.3400  2.9315  \n",
       "...           ...    ...      ...     ...       ...      ...     ...  \n",
       "4677        3.167  6.036    5.464   5.269         0   5.1665  6.2355  \n",
       "4678        6.269  2.636    1.758   4.172         0   4.3745  3.2955  \n",
       "4679        4.000  5.364    2.636   3.452         0   6.4695  4.2355  \n",
       "4680        5.655  2.324    4.844   4.059         0   5.8600  6.2795  \n",
       "4681        4.382  5.824    4.571   3.657         0   5.4395  4.1715  \n",
       "\n",
       "[4682 rows x 13 columns]"
      ]
     },
     "execution_count": 5,
     "metadata": {},
     "output_type": "execute_result"
    }
   ],
   "source": [
    "#droppo colonne\n",
    "\n",
    "df2 = df.drop([\"word\",\"web_corpus_freq\"], axis =1)\n",
    "\n",
    "df2"
   ]
  },
  {
   "cell_type": "code",
   "execution_count": 166,
   "metadata": {},
   "outputs": [],
   "source": [
    "#Leviamo Outliers\n",
    "def clean(i, x) :\n",
    "    Q1 = x[i].quantile(0.25, interpolation='linear')\n",
    "    Q3 = x[i].quantile(0.75, interpolation='linear')\n",
    "    IQR = Q3-Q1\n",
    "    Lowerfence = Q1 - 1.5*IQR\n",
    "    Upperfence = Q3 + 1.5*IQR\n",
    "    NOR= x.loc[(x[i] > Lowerfence) & (x[i] < Upperfence) ]\n",
    "    return NOR"
   ]
  },
  {
   "cell_type": "code",
   "execution_count": 197,
   "metadata": {},
   "outputs": [],
   "source": [
    "df2 = clean(\"gender\", df2)\n",
    "df2 = clean(\"emotion\", df2)\n",
    "df2 = clean(\"visual\", df2)\n",
    "df2 = clean(\"aoa\", df2)"
   ]
  },
  {
   "cell_type": "markdown",
   "metadata": {},
   "source": [
    "## SENZA OUTLIERS"
   ]
  },
  {
   "cell_type": "code",
   "execution_count": 30,
   "metadata": {},
   "outputs": [],
   "source": [
    "train_data1 = df2[[\"emotion\",\"visual\",\"aoa\",\"gender\",\"polysemy\"]].values"
   ]
  },
  {
   "cell_type": "code",
   "execution_count": 31,
   "metadata": {},
   "outputs": [],
   "source": [
    "scaler = MinMaxScaler()\n",
    "X = scaler.fit_transform(train_data1)"
   ]
  },
  {
   "cell_type": "code",
   "execution_count": 32,
   "metadata": {},
   "outputs": [
    {
     "data": {
      "image/png": "[encoded data removed]",
      "text/plain": [
       "<Figure size 1080x288 with 1 Axes>"
      ]
     },
     "metadata": {
      "needs_background": "light"
     },
     "output_type": "display_data"
    }
   ],
   "source": [
    "# Hierarchical completo (NO OUTLIERS)\n",
    "\n",
    "plt.figure(figsize=(15, 4))\n",
    "data_dist = pdist(X, metric='euclidean')\n",
    "data_link = linkage(data_dist, method='complete', metric='euclidean')\n",
    "res = dendrogram(data_link, color_threshold=1.1, truncate_mode='lastp')\n",
    "\n",
    "plt.title(\"Hierarchical clustering by Complete method\")\n",
    "plt.savefig(\"complete.jpg\")"
   ]
  },
  {
   "cell_type": "code",
   "execution_count": 33,
   "metadata": {
    "scrolled": true
   },
   "outputs": [
    {
     "data": {
      "image/png": "[encoded data removed]",
      "text/plain": [
       "<Figure size 1080x288 with 1 Axes>"
      ]
     },
     "metadata": {
      "needs_background": "light"
     },
     "output_type": "display_data"
    }
   ],
   "source": [
    "# Hierarchical singolo (NO OUTLIERS)\n",
    "\n",
    "plt.figure(figsize=(15, 4))\n",
    "\n",
    "data_dist = pdist(X, metric='euclidean')\n",
    "data_link = linkage(data_dist, method='single', metric='euclidean')\n",
    "res = dendrogram(data_link, truncate_mode='lastp')\n",
    "\n",
    "plt.title(\"Hierarchical clustering by Single method\")\n",
    "plt.savefig(\"single.jpg\")"
   ]
  },
  {
   "cell_type": "code",
   "execution_count": 47,
   "metadata": {},
   "outputs": [
    {
     "data": {
      "image/png": "[encoded data removed]",
      "text/plain": [
       "<Figure size 1080x288 with 1 Axes>"
      ]
     },
     "metadata": {
      "needs_background": "light"
     },
     "output_type": "display_data"
    }
   ],
   "source": [
    "# Hierarchical avg (NO OUTLIERS)\n",
    "\n",
    "plt.figure(figsize=(15, 4))\n",
    "data_dist = pdist(X, metric='euclidean')\n",
    "data_link = linkage(data_dist, method='average', metric='euclidean')\n",
    "res = dendrogram(data_link, color_threshold=0.7, truncate_mode='lastp')\n",
    "\n",
    "plt.title(\"Hierarchical clustering by Average method\")\n",
    "plt.savefig(\"average.jpg\")"
   ]
  },
  {
   "cell_type": "code",
   "execution_count": 44,
   "metadata": {},
   "outputs": [
    {
     "data": {
      "text/plain": [
       "AgglomerativeClustering(linkage='average', n_clusters=5)"
      ]
     },
     "execution_count": 44,
     "metadata": {},
     "output_type": "execute_result"
    }
   ],
   "source": [
    "hier_complete = AgglomerativeClustering(n_clusters=5, affinity='euclidean', linkage='complete')\n",
    "hier_complete.fit(X)\n",
    "\n",
    "hier_single = AgglomerativeClustering(n_clusters=5, affinity='euclidean', linkage='single')\n",
    "hier_single.fit(X)\n",
    "\n",
    "hier_avg = AgglomerativeClustering(n_clusters=5, affinity='euclidean', linkage='average')\n",
    "hier_avg.fit(X)"
   ]
  },
  {
   "cell_type": "code",
   "execution_count": 45,
   "metadata": {},
   "outputs": [
    {
     "name": "stdout",
     "output_type": "stream",
     "text": [
      "Siluette Complete: \t 0.21634918751071874\n",
      "Siluette Single: \t 0.46852463106623826\n",
      "Siluette Average: \t 0.2672363700171312\n"
     ]
    }
   ],
   "source": [
    "#Siluette\n",
    "\n",
    "print(\"Siluette Complete:\",\"\\t\",silhouette_score(X, hier_complete.labels_))\n",
    "print(\"Siluette Single:\",\"\\t\",silhouette_score(X, hier_single.labels_))\n",
    "print(\"Siluette Average:\",\"\\t\",silhouette_score(X, hier_avg.labels_))"
   ]
  },
  {
   "cell_type": "code",
   "execution_count": 46,
   "metadata": {
    "scrolled": false
   },
   "outputs": [
    {
     "name": "stdout",
     "output_type": "stream",
     "text": [
      "(array([0, 1, 2, 3, 4], dtype=int64), array([ 379, 1419,  885,  989, 1010], dtype=int64))\n",
      "(array([0, 1, 2, 3, 4], dtype=int64), array([ 376, 4303,    1,    1,    1], dtype=int64))\n",
      "(array([0, 1, 2, 3, 4], dtype=int64), array([ 373, 2365,    1, 1938,    5], dtype=int64))\n"
     ]
    }
   ],
   "source": [
    "# Cluster e Conteggio valori in cluster\n",
    "\n",
    "print(np.unique(hier_complete.labels_, return_counts=True))\n",
    "print(np.unique(hier_single.labels_, return_counts=True))\n",
    "print(np.unique(hier_avg.labels_, return_counts=True))"
   ]
  },
  {
   "cell_type": "code",
   "execution_count": null,
   "metadata": {},
   "outputs": [],
   "source": []
  }
 ],
 "metadata": {
  "kernelspec": {
   "display_name": "Python 3",
   "language": "python",
   "name": "python3"
  },
  "language_info": {
   "codemirror_mode": {
    "name": "ipython",
    "version": 3
   },
   "file_extension": ".py",
   "mimetype": "text/x-python",
   "name": "python",
   "nbconvert_exporter": "python",
   "pygments_lexer": "ipython3",
   "version": "3.8.3"
  }
 },
 "nbformat": 4,
 "nbformat_minor": 4
}
