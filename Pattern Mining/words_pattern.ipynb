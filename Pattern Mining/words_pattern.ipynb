{
 "cells": [
  {
   "cell_type": "code",
   "execution_count": 1,
   "id": "a1fe5455",
   "metadata": {},
   "outputs": [],
   "source": [
    "import pandas as pd\n",
    "import numpy as np\n",
    "import matplotlib.pyplot as plt\n",
    "import seaborn as sns\n",
    "%matplotlib inline"
   ]
  },
  {
   "cell_type": "code",
   "execution_count": 2,
   "id": "4d2efae0",
   "metadata": {},
   "outputs": [],
   "source": [
    "from fim import apriori"
   ]
  },
  {
   "cell_type": "code",
   "execution_count": 3,
   "id": "af3cfbde",
   "metadata": {},
   "outputs": [],
   "source": [
    "df= pd.read_csv('df_pattern_words.csv')"
   ]
  },
  {
   "cell_type": "code",
   "execution_count": 4,
   "id": "39f960ff",
   "metadata": {},
   "outputs": [
    {
     "data": {
      "text/html": [
       "<div>\n",
       "<style scoped>\n",
       "    .dataframe tbody tr th:only-of-type {\n",
       "        vertical-align: middle;\n",
       "    }\n",
       "\n",
       "    .dataframe tbody tr th {\n",
       "        vertical-align: top;\n",
       "    }\n",
       "\n",
       "    .dataframe thead th {\n",
       "        text-align: right;\n",
       "    }\n",
       "</style>\n",
       "<table border=\"1\" class=\"dataframe\">\n",
       "  <thead>\n",
       "    <tr style=\"text-align: right;\">\n",
       "      <th></th>\n",
       "      <th>Unnamed: 0</th>\n",
       "      <th>length</th>\n",
       "      <th>polysemy</th>\n",
       "      <th>arousal_bin</th>\n",
       "      <th>familiarity_bin</th>\n",
       "      <th>aoa_bin</th>\n",
       "      <th>semsize_bin</th>\n",
       "      <th>gender_bin</th>\n",
       "      <th>emotion_bin</th>\n",
       "      <th>visual_bin</th>\n",
       "    </tr>\n",
       "  </thead>\n",
       "  <tbody>\n",
       "    <tr>\n",
       "      <th>0</th>\n",
       "      <td>0</td>\n",
       "      <td>(6.0, 8.0]</td>\n",
       "      <td>Non Polisemica</td>\n",
       "      <td>(3.849, 4.571]_arousal</td>\n",
       "      <td>(1.6460000000000001, 4.706]_familiarity</td>\n",
       "      <td>(5.152, 6.971]_aoa</td>\n",
       "      <td>(4.186, 4.882]_semsize</td>\n",
       "      <td>(4.656, 6.971]_gender</td>\n",
       "      <td>(1.7790000000000001, 4.334]_emotion</td>\n",
       "      <td>(4.562, 5.97]_visual</td>\n",
       "    </tr>\n",
       "    <tr>\n",
       "      <th>1</th>\n",
       "      <td>1</td>\n",
       "      <td>(1.999, 5.0]</td>\n",
       "      <td>Non Polisemica</td>\n",
       "      <td>(2.056, 3.849]_arousal</td>\n",
       "      <td>(1.6460000000000001, 4.706]_familiarity</td>\n",
       "      <td>(5.152, 6.971]_aoa</td>\n",
       "      <td>(4.882, 6.912]_semsize</td>\n",
       "      <td>(0.999, 3.606]_gender</td>\n",
       "      <td>(5.21, 5.797]_emotion</td>\n",
       "      <td>(4.562, 5.97]_visual</td>\n",
       "    </tr>\n",
       "    <tr>\n",
       "      <th>2</th>\n",
       "      <td>2</td>\n",
       "      <td>(8.0, 16.0]</td>\n",
       "      <td>Non Polisemica</td>\n",
       "      <td>(2.056, 3.849]_arousal</td>\n",
       "      <td>(4.706, 5.438]_familiarity</td>\n",
       "      <td>(5.152, 6.971]_aoa</td>\n",
       "      <td>(1.374, 3.438]_semsize</td>\n",
       "      <td>(3.606, 4.121]_gender</td>\n",
       "      <td>(5.21, 5.797]_emotion</td>\n",
       "      <td>(1.802, 3.407]_visual</td>\n",
       "    </tr>\n",
       "    <tr>\n",
       "      <th>3</th>\n",
       "      <td>3</td>\n",
       "      <td>(6.0, 8.0]</td>\n",
       "      <td>Non Polisemica</td>\n",
       "      <td>(3.849, 4.571]_arousal</td>\n",
       "      <td>(1.6460000000000001, 4.706]_familiarity</td>\n",
       "      <td>(5.152, 6.971]_aoa</td>\n",
       "      <td>(4.186, 4.882]_semsize</td>\n",
       "      <td>(4.656, 6.971]_gender</td>\n",
       "      <td>(1.7790000000000001, 4.334]_emotion</td>\n",
       "      <td>(1.802, 3.407]_visual</td>\n",
       "    </tr>\n",
       "    <tr>\n",
       "      <th>4</th>\n",
       "      <td>4</td>\n",
       "      <td>(8.0, 16.0]</td>\n",
       "      <td>Non Polisemica</td>\n",
       "      <td>(2.056, 3.849]_arousal</td>\n",
       "      <td>(1.6460000000000001, 4.706]_familiarity</td>\n",
       "      <td>(5.152, 6.971]_aoa</td>\n",
       "      <td>(4.882, 6.912]_semsize</td>\n",
       "      <td>(4.121, 4.656]_gender</td>\n",
       "      <td>(4.334, 5.21]_emotion</td>\n",
       "      <td>(1.802, 3.407]_visual</td>\n",
       "    </tr>\n",
       "    <tr>\n",
       "      <th>...</th>\n",
       "      <td>...</td>\n",
       "      <td>...</td>\n",
       "      <td>...</td>\n",
       "      <td>...</td>\n",
       "      <td>...</td>\n",
       "      <td>...</td>\n",
       "      <td>...</td>\n",
       "      <td>...</td>\n",
       "      <td>...</td>\n",
       "      <td>...</td>\n",
       "    </tr>\n",
       "    <tr>\n",
       "      <th>4487</th>\n",
       "      <td>4677</td>\n",
       "      <td>(6.0, 8.0]</td>\n",
       "      <td>Non Polisemica</td>\n",
       "      <td>(5.419, 8.177]_arousal</td>\n",
       "      <td>(1.6460000000000001, 4.706]_familiarity</td>\n",
       "      <td>(5.152, 6.971]_aoa</td>\n",
       "      <td>(4.882, 6.912]_semsize</td>\n",
       "      <td>(4.656, 6.971]_gender</td>\n",
       "      <td>(4.334, 5.21]_emotion</td>\n",
       "      <td>(5.97, 6.925]_visual</td>\n",
       "    </tr>\n",
       "    <tr>\n",
       "      <th>4488</th>\n",
       "      <td>4678</td>\n",
       "      <td>(1.999, 5.0]</td>\n",
       "      <td>Non Polisemica</td>\n",
       "      <td>(3.849, 4.571]_arousal</td>\n",
       "      <td>(5.969, 6.939]_familiarity</td>\n",
       "      <td>(1.2180000000000002, 3.114]_aoa</td>\n",
       "      <td>(1.374, 3.438]_semsize</td>\n",
       "      <td>(4.121, 4.656]_gender</td>\n",
       "      <td>(4.334, 5.21]_emotion</td>\n",
       "      <td>(1.802, 3.407]_visual</td>\n",
       "    </tr>\n",
       "    <tr>\n",
       "      <th>4489</th>\n",
       "      <td>4679</td>\n",
       "      <td>(1.999, 5.0]</td>\n",
       "      <td>Non Polisemica</td>\n",
       "      <td>(5.419, 8.177]_arousal</td>\n",
       "      <td>(1.6460000000000001, 4.706]_familiarity</td>\n",
       "      <td>(5.152, 6.971]_aoa</td>\n",
       "      <td>(1.374, 3.438]_semsize</td>\n",
       "      <td>(0.999, 3.606]_gender</td>\n",
       "      <td>(5.797, 8.147]_emotion</td>\n",
       "      <td>(3.407, 4.562]_visual</td>\n",
       "    </tr>\n",
       "    <tr>\n",
       "      <th>4490</th>\n",
       "      <td>4680</td>\n",
       "      <td>(1.999, 5.0]</td>\n",
       "      <td>Non Polisemica</td>\n",
       "      <td>(5.419, 8.177]_arousal</td>\n",
       "      <td>(5.438, 5.969]_familiarity</td>\n",
       "      <td>(1.2180000000000002, 3.114]_aoa</td>\n",
       "      <td>(4.186, 4.882]_semsize</td>\n",
       "      <td>(3.606, 4.121]_gender</td>\n",
       "      <td>(5.797, 8.147]_emotion</td>\n",
       "      <td>(5.97, 6.925]_visual</td>\n",
       "    </tr>\n",
       "    <tr>\n",
       "      <th>4491</th>\n",
       "      <td>4681</td>\n",
       "      <td>(6.0, 8.0]</td>\n",
       "      <td>Non Polisemica</td>\n",
       "      <td>(3.849, 4.571]_arousal</td>\n",
       "      <td>(1.6460000000000001, 4.706]_familiarity</td>\n",
       "      <td>(5.152, 6.971]_aoa</td>\n",
       "      <td>(4.186, 4.882]_semsize</td>\n",
       "      <td>(3.606, 4.121]_gender</td>\n",
       "      <td>(5.21, 5.797]_emotion</td>\n",
       "      <td>(3.407, 4.562]_visual</td>\n",
       "    </tr>\n",
       "  </tbody>\n",
       "</table>\n",
       "<p>4492 rows × 10 columns</p>\n",
       "</div>"
      ],
      "text/plain": [
       "      Unnamed: 0        length        polysemy             arousal_bin  \\\n",
       "0              0    (6.0, 8.0]  Non Polisemica  (3.849, 4.571]_arousal   \n",
       "1              1  (1.999, 5.0]  Non Polisemica  (2.056, 3.849]_arousal   \n",
       "2              2   (8.0, 16.0]  Non Polisemica  (2.056, 3.849]_arousal   \n",
       "3              3    (6.0, 8.0]  Non Polisemica  (3.849, 4.571]_arousal   \n",
       "4              4   (8.0, 16.0]  Non Polisemica  (2.056, 3.849]_arousal   \n",
       "...          ...           ...             ...                     ...   \n",
       "4487        4677    (6.0, 8.0]  Non Polisemica  (5.419, 8.177]_arousal   \n",
       "4488        4678  (1.999, 5.0]  Non Polisemica  (3.849, 4.571]_arousal   \n",
       "4489        4679  (1.999, 5.0]  Non Polisemica  (5.419, 8.177]_arousal   \n",
       "4490        4680  (1.999, 5.0]  Non Polisemica  (5.419, 8.177]_arousal   \n",
       "4491        4681    (6.0, 8.0]  Non Polisemica  (3.849, 4.571]_arousal   \n",
       "\n",
       "                              familiarity_bin  \\\n",
       "0     (1.6460000000000001, 4.706]_familiarity   \n",
       "1     (1.6460000000000001, 4.706]_familiarity   \n",
       "2                  (4.706, 5.438]_familiarity   \n",
       "3     (1.6460000000000001, 4.706]_familiarity   \n",
       "4     (1.6460000000000001, 4.706]_familiarity   \n",
       "...                                       ...   \n",
       "4487  (1.6460000000000001, 4.706]_familiarity   \n",
       "4488               (5.969, 6.939]_familiarity   \n",
       "4489  (1.6460000000000001, 4.706]_familiarity   \n",
       "4490               (5.438, 5.969]_familiarity   \n",
       "4491  (1.6460000000000001, 4.706]_familiarity   \n",
       "\n",
       "                              aoa_bin             semsize_bin  \\\n",
       "0                  (5.152, 6.971]_aoa  (4.186, 4.882]_semsize   \n",
       "1                  (5.152, 6.971]_aoa  (4.882, 6.912]_semsize   \n",
       "2                  (5.152, 6.971]_aoa  (1.374, 3.438]_semsize   \n",
       "3                  (5.152, 6.971]_aoa  (4.186, 4.882]_semsize   \n",
       "4                  (5.152, 6.971]_aoa  (4.882, 6.912]_semsize   \n",
       "...                               ...                     ...   \n",
       "4487               (5.152, 6.971]_aoa  (4.882, 6.912]_semsize   \n",
       "4488  (1.2180000000000002, 3.114]_aoa  (1.374, 3.438]_semsize   \n",
       "4489               (5.152, 6.971]_aoa  (1.374, 3.438]_semsize   \n",
       "4490  (1.2180000000000002, 3.114]_aoa  (4.186, 4.882]_semsize   \n",
       "4491               (5.152, 6.971]_aoa  (4.186, 4.882]_semsize   \n",
       "\n",
       "                 gender_bin                          emotion_bin  \\\n",
       "0     (4.656, 6.971]_gender  (1.7790000000000001, 4.334]_emotion   \n",
       "1     (0.999, 3.606]_gender                (5.21, 5.797]_emotion   \n",
       "2     (3.606, 4.121]_gender                (5.21, 5.797]_emotion   \n",
       "3     (4.656, 6.971]_gender  (1.7790000000000001, 4.334]_emotion   \n",
       "4     (4.121, 4.656]_gender                (4.334, 5.21]_emotion   \n",
       "...                     ...                                  ...   \n",
       "4487  (4.656, 6.971]_gender                (4.334, 5.21]_emotion   \n",
       "4488  (4.121, 4.656]_gender                (4.334, 5.21]_emotion   \n",
       "4489  (0.999, 3.606]_gender               (5.797, 8.147]_emotion   \n",
       "4490  (3.606, 4.121]_gender               (5.797, 8.147]_emotion   \n",
       "4491  (3.606, 4.121]_gender                (5.21, 5.797]_emotion   \n",
       "\n",
       "                 visual_bin  \n",
       "0      (4.562, 5.97]_visual  \n",
       "1      (4.562, 5.97]_visual  \n",
       "2     (1.802, 3.407]_visual  \n",
       "3     (1.802, 3.407]_visual  \n",
       "4     (1.802, 3.407]_visual  \n",
       "...                     ...  \n",
       "4487   (5.97, 6.925]_visual  \n",
       "4488  (1.802, 3.407]_visual  \n",
       "4489  (3.407, 4.562]_visual  \n",
       "4490   (5.97, 6.925]_visual  \n",
       "4491  (3.407, 4.562]_visual  \n",
       "\n",
       "[4492 rows x 10 columns]"
      ]
     },
     "execution_count": 4,
     "metadata": {},
     "output_type": "execute_result"
    }
   ],
   "source": [
    "df"
   ]
  },
  {
   "cell_type": "code",
   "execution_count": 5,
   "id": "f8201332",
   "metadata": {},
   "outputs": [
    {
     "data": {
      "text/plain": [
       "(1.999, 5.0]    1732\n",
       "(6.0, 8.0]      1215\n",
       "(5.0, 6.0]       876\n",
       "(8.0, 16.0]      669\n",
       "Name: length, dtype: int64"
      ]
     },
     "execution_count": 5,
     "metadata": {},
     "output_type": "execute_result"
    }
   ],
   "source": [
    "df['length'].value_counts()"
   ]
  },
  {
   "cell_type": "code",
   "execution_count": 6,
   "id": "a77de0f5",
   "metadata": {},
   "outputs": [],
   "source": [
    "X = df.values.tolist()"
   ]
  },
  {
   "cell_type": "code",
   "execution_count": 7,
   "id": "0babf8ce",
   "metadata": {},
   "outputs": [],
   "source": [
    "max_itemsets = apriori(X, target='m', supp=2, zmin=3, report='S')\n",
    "all_itemsets = apriori(X, target='s', supp=2, zmin=3, report='S')"
   ]
  },
  {
   "cell_type": "code",
   "execution_count": 8,
   "id": "c76d72d7",
   "metadata": {},
   "outputs": [
    {
     "data": {
      "text/plain": [
       "2255"
      ]
     },
     "execution_count": 8,
     "metadata": {},
     "output_type": "execute_result"
    }
   ],
   "source": [
    "len(all_itemsets)"
   ]
  },
  {
   "cell_type": "code",
   "execution_count": 9,
   "id": "863b87a0",
   "metadata": {},
   "outputs": [
    {
     "data": {
      "text/plain": [
       "[(('Polisemica', '(5.97, 6.925]_visual', '(1.999, 5.0]'), 2.1816562778272486),\n",
       " (('Polisemica',\n",
       "   '(1.2180000000000002, 3.114]_aoa',\n",
       "   '(5.969, 6.939]_familiarity'),\n",
       "  2.3820124666073017),\n",
       " (('Polisemica', '(1.2180000000000002, 3.114]_aoa', '(1.999, 5.0]'),\n",
       "  3.227960819234194),\n",
       " (('Polisemica', '(5.969, 6.939]_familiarity', '(1.999, 5.0]'),\n",
       "  2.3374888691006235),\n",
       " (('Polisemica', '(4.562, 5.97]_visual', '(1.999, 5.0]'), 2.2707034728406055),\n",
       " (('Polisemica', '(5.21, 5.797]_emotion', '(1.999, 5.0]'), 2.248441674087266),\n",
       " (('Polisemica', '(1.374, 3.438]_semsize', '(1.999, 5.0]'), 2.782724844167409),\n",
       " (('Polisemica', '(3.438, 4.186]_semsize', '(1.999, 5.0]'),\n",
       "  2.0258236865538737),\n",
       " (('Polisemica', '(4.334, 5.21]_emotion', '(1.999, 5.0]'), 2.3374888691006235),\n",
       " (('Polisemica', '(2.056, 3.849]_arousal', '(1.999, 5.0]'),\n",
       "  2.2039180765805875),\n",
       " (('(8.0, 16.0]',\n",
       "   '(0.999, 3.606]_gender',\n",
       "   '(5.797, 8.147]_emotion',\n",
       "   'Non Polisemica'),\n",
       "  2.0480854853072126),\n",
       " (('(8.0, 16.0]', '(5.97, 6.925]_visual', 'Non Polisemica'),\n",
       "  2.671415850400712),\n",
       " (('(8.0, 16.0]',\n",
       "   '(5.419, 8.177]_arousal',\n",
       "   '(5.797, 8.147]_emotion',\n",
       "   '(4.882, 6.912]_semsize',\n",
       "   'Non Polisemica'),\n",
       "  2.226179875333927)]"
      ]
     },
     "execution_count": 9,
     "metadata": {},
     "output_type": "execute_result"
    }
   ],
   "source": [
    "max_itemsets[:13]"
   ]
  },
  {
   "cell_type": "code",
   "execution_count": 10,
   "id": "e669d16b",
   "metadata": {},
   "outputs": [
    {
     "data": {
      "text/plain": [
       "[(('Polisemica', '(5.97, 6.925]_visual', '(1.999, 5.0]'), 2.1816562778272486),\n",
       " (('Polisemica',\n",
       "   '(1.2180000000000002, 3.114]_aoa',\n",
       "   '(5.969, 6.939]_familiarity'),\n",
       "  2.3820124666073017),\n",
       " (('Polisemica', '(1.2180000000000002, 3.114]_aoa', '(1.999, 5.0]'),\n",
       "  3.227960819234194),\n",
       " (('Polisemica', '(5.969, 6.939]_familiarity', '(1.999, 5.0]'),\n",
       "  2.3374888691006235),\n",
       " (('Polisemica', '(4.562, 5.97]_visual', '(1.999, 5.0]'), 2.2707034728406055),\n",
       " (('Polisemica', '(5.21, 5.797]_emotion', '(1.999, 5.0]'), 2.248441674087266),\n",
       " (('Polisemica', '(1.374, 3.438]_semsize', '(1.999, 5.0]'), 2.782724844167409),\n",
       " (('Polisemica', '(3.438, 4.186]_semsize', '(1.999, 5.0]'),\n",
       "  2.0258236865538737),\n",
       " (('Polisemica', '(4.334, 5.21]_emotion', '(1.999, 5.0]'), 2.3374888691006235),\n",
       " (('Polisemica', '(2.056, 3.849]_arousal', '(1.999, 5.0]'),\n",
       "  2.2039180765805875),\n",
       " (('(8.0, 16.0]', '(0.999, 3.606]_gender', '(5.797, 8.147]_emotion'),\n",
       "  2.070347284060552),\n",
       " (('(8.0, 16.0]',\n",
       "   '(0.999, 3.606]_gender',\n",
       "   '(5.797, 8.147]_emotion',\n",
       "   'Non Polisemica'),\n",
       "  2.0480854853072126),\n",
       " (('(8.0, 16.0]', '(0.999, 3.606]_gender', 'Non Polisemica'),\n",
       "  3.4283170080142478)]"
      ]
     },
     "execution_count": 10,
     "metadata": {},
     "output_type": "execute_result"
    }
   ],
   "source": [
    "all_itemsets[:13]"
   ]
  },
  {
   "cell_type": "code",
   "execution_count": 11,
   "id": "14bf1897",
   "metadata": {},
   "outputs": [
    {
     "data": {
      "image/png": "[encoded data removed]",
      "text/plain": [
       "<Figure size 432x288 with 1 Axes>"
      ]
     },
     "metadata": {
      "needs_background": "light"
     },
     "output_type": "display_data"
    }
   ],
   "source": [
    "len_max_it = []\n",
    "len_all_it = []\n",
    "for i in range(2, 20+1):\n",
    "    max_itemsets = apriori(X, target='m', supp=i, zmin=3)\n",
    "    all_itemsets = apriori(X, target='s', supp=i, zmin=3)\n",
    "    len_max_it.append( len(max_itemsets)  )\n",
    "    len_all_it.append( len(all_itemsets) )\n",
    "    \n",
    "plt.plot(len_max_it, label='maximal')\n",
    "plt.plot(len_all_it, label='all')\n",
    "plt.legend(fontsize=20)\n",
    "plt.xticks(fontsize=20)\n",
    "plt.xlabel('%support', fontsize=15)\n",
    "\n",
    "plt.show()"
   ]
  },
  {
   "cell_type": "code",
   "execution_count": 12,
   "id": "34eaebee",
   "metadata": {},
   "outputs": [
    {
     "data": {
      "image/png": "[encoded data removed]",
      "text/plain": [
       "<Figure size 432x288 with 1 Axes>"
      ]
     },
     "metadata": {
      "needs_background": "light"
     },
     "output_type": "display_data"
    }
   ],
   "source": [
    "len_max_it = []\n",
    "len_cl_it = []\n",
    "for i in range(2, 20+1):\n",
    "    max_itemsets = apriori(X, target='m', supp=i, zmin=3)\n",
    "    cl_itemsets = apriori(X, target='c', supp=i, zmin=3)\n",
    "    len_max_it.append( len(max_itemsets)  )\n",
    "    len_cl_it.append( len(cl_itemsets) )\n",
    "    \n",
    "plt.plot(len_max_it, label='maximal')\n",
    "plt.plot(len_cl_it, label='closed')\n",
    "plt.legend(fontsize=20)\n",
    "plt.xticks(fontsize=20)\n",
    "plt.xlabel('%support', fontsize=15)\n",
    "\n",
    "plt.show()"
   ]
  },
  {
   "cell_type": "code",
   "execution_count": 13,
   "id": "e88868a1",
   "metadata": {},
   "outputs": [
    {
     "data": {
      "image/png": "[encoded data removed]",
      "text/plain": [
       "<Figure size 432x288 with 1 Axes>"
      ]
     },
     "metadata": {
      "needs_background": "light"
     },
     "output_type": "display_data"
    }
   ],
   "source": [
    "len_all_it1 = []\n",
    "len_cl_it1 = []\n",
    "for i in range(2, 20+1):\n",
    "    all_itemsets1 = apriori(X, target='s', supp=i, zmin=3)\n",
    "    close_itemsets1 = apriori(X, target='c', supp=i, zmin=3)\n",
    "    len_all_it1.append( len(all_itemsets1)  )\n",
    "    len_cl_it1.append( len(close_itemsets1) )\n",
    "    \n",
    "plt.plot(len_all_it1, label='all')\n",
    "plt.plot(len_cl_it1, label='closed')\n",
    "plt.legend(fontsize=15)\n",
    "plt.xticks(fontsize=15)\n",
    "plt.xlabel('%support', fontsize=15)\n",
    "\n",
    "plt.show()"
   ]
  },
  {
   "cell_type": "code",
   "execution_count": 14,
   "id": "08c1fd6c",
   "metadata": {},
   "outputs": [
    {
     "data": {
      "image/png": "[encoded data removed]",
      "text/plain": [
       "<Figure size 432x288 with 1 Axes>"
      ]
     },
     "metadata": {
      "needs_background": "light"
     },
     "output_type": "display_data"
    }
   ],
   "source": [
    "filter_1 = []\n",
    "filter_2 = []\n",
    "for i in range(2, 20+1):\n",
    "    max_itemsets = apriori(X, target='r', supp=i, zmin=3,conf=60)\n",
    "    \n",
    "    filter_1.append( len([item for item in max_itemsets if 'Non Polisemica' in item[0]])  )\n",
    "    filter_2.append( len([item for item in max_itemsets if 'Polisemica' in item[0]]) )\n",
    "    \n",
    "plt.plot(filter_1, label='w/ Non Polisemica')\n",
    "plt.plot(filter_2, label='w/ Polisemica')\n",
    "plt.legend(fontsize=10)\n",
    "plt.xticks(fontsize=10)\n",
    "plt.xlabel('%support', fontsize=15)\n",
    "\n",
    "plt.show()"
   ]
  },
  {
   "cell_type": "code",
   "execution_count": 15,
   "id": "362726ac",
   "metadata": {},
   "outputs": [],
   "source": [
    "rules = apriori(X, target='r', supp=10, zmin=3, conf=60, report='aScl')"
   ]
  },
  {
   "cell_type": "code",
   "execution_count": 16,
   "id": "567f74a6",
   "metadata": {},
   "outputs": [
    {
     "data": {
      "text/plain": [
       "45"
      ]
     },
     "execution_count": 16,
     "metadata": {},
     "output_type": "execute_result"
    }
   ],
   "source": [
    "len(rules)"
   ]
  },
  {
   "cell_type": "code",
   "execution_count": 17,
   "id": "046af592",
   "metadata": {},
   "outputs": [
    {
     "data": {
      "text/plain": [
       "[('(5.419, 8.177]_arousal',\n",
       "  ('(0.999, 3.606]_gender', '(5.797, 8.147]_emotion', 'Non Polisemica'),\n",
       "  292,\n",
       "  6.500445235975066,\n",
       "  0.6226012793176973,\n",
       "  2.5823868390536435),\n",
       " ('(5.419, 8.177]_arousal',\n",
       "  ('(0.999, 3.606]_gender', '(5.797, 8.147]_emotion'),\n",
       "  307,\n",
       "  6.834372217275156,\n",
       "  0.6239837398373984,\n",
       "  2.5881209227604742),\n",
       " ('Non Polisemica',\n",
       "  ('(0.999, 3.606]_gender', '(5.797, 8.147]_emotion'),\n",
       "  469,\n",
       "  10.440783615316118,\n",
       "  0.9532520325203252,\n",
       "  1.0388180810483505),\n",
       " ('(1.374, 3.438]_semsize',\n",
       "  ('(5.97, 6.925]_visual', '(1.2180000000000002, 3.114]_aoa'),\n",
       "  329,\n",
       "  7.32413178984862,\n",
       "  0.6302681992337165,\n",
       "  2.521072796934866),\n",
       " ('(5.97, 6.925]_visual',\n",
       "  ('(1.2180000000000002, 3.114]_aoa', '(1.374, 3.438]_semsize'),\n",
       "  329,\n",
       "  7.32413178984862,\n",
       "  0.724669603524229,\n",
       "  3.0140887583618863),\n",
       " ('(1.999, 5.0]',\n",
       "  ('(5.97, 6.925]_visual', '(1.2180000000000002, 3.114]_aoa'),\n",
       "  325,\n",
       "  7.235084594835263,\n",
       "  0.6226053639846744,\n",
       "  1.614747860865564),\n",
       " ('(1.2180000000000002, 3.114]_aoa',\n",
       "  ('(5.97, 6.925]_visual', '(1.999, 5.0]'),\n",
       "  325,\n",
       "  7.235084594835263,\n",
       "  0.6410256410256411,\n",
       "  2.6296686570659173),\n",
       " ('Non Polisemica',\n",
       "  ('(5.97, 6.925]_visual', '(1.2180000000000002, 3.114]_aoa'),\n",
       "  446,\n",
       "  9.928762243989315,\n",
       "  0.8544061302681992,\n",
       "  0.9310995480749031),\n",
       " ('Non Polisemica',\n",
       "  ('(5.97, 6.925]_visual', '(5.21, 5.797]_emotion'),\n",
       "  438,\n",
       "  9.7506678539626,\n",
       "  0.8884381338742393,\n",
       "  0.9681863409420386),\n",
       " ('(1.374, 3.438]_semsize',\n",
       "  ('(5.97, 6.925]_visual', '(1.999, 5.0]'),\n",
       "  319,\n",
       "  7.101513802315227,\n",
       "  0.6291913214990138,\n",
       "  2.516765285996055),\n",
       " ('Non Polisemica',\n",
       "  ('(5.97, 6.925]_visual', '(1.374, 3.438]_semsize'),\n",
       "  504,\n",
       "  11.219946571682991,\n",
       "  0.865979381443299,\n",
       "  0.9437116403307373),\n",
       " ('Non Polisemica',\n",
       "  ('(5.97, 6.925]_visual', '(1.999, 5.0]'),\n",
       "  409,\n",
       "  9.105075690115761,\n",
       "  0.8067061143984221,\n",
       "  0.8791178713919728),\n",
       " ('(5.419, 8.177]_arousal',\n",
       "  ('(5.797, 8.147]_emotion', '(4.882, 6.912]_semsize', 'Non Polisemica'),\n",
       "  351,\n",
       "  7.813891362422083,\n",
       "  0.7714285714285715,\n",
       "  3.1996834190740007),\n",
       " ('(5.797, 8.147]_emotion',\n",
       "  ('(5.419, 8.177]_arousal', '(4.882, 6.912]_semsize'),\n",
       "  363,\n",
       "  8.081032947462155,\n",
       "  0.6029900332225914,\n",
       "  2.4918410572547196),\n",
       " ('(5.419, 8.177]_arousal',\n",
       "  ('(5.797, 8.147]_emotion', '(4.882, 6.912]_semsize'),\n",
       "  363,\n",
       "  8.081032947462155,\n",
       "  0.7690677966101694,\n",
       "  3.1898915442039533),\n",
       " ('Non Polisemica',\n",
       "  ('(5.419, 8.177]_arousal', '(5.797, 8.147]_emotion'),\n",
       "  608,\n",
       "  13.535173642030276,\n",
       "  0.9559748427672956,\n",
       "  1.041785296873045),\n",
       " ('Non Polisemica',\n",
       "  ('(5.419, 8.177]_arousal', '(4.882, 6.912]_semsize'),\n",
       "  587,\n",
       "  13.067675868210152,\n",
       "  0.9750830564784053,\n",
       "  1.062608706865841),\n",
       " ('Non Polisemica',\n",
       "  ('(5.797, 8.147]_emotion', '(4.882, 6.912]_semsize'),\n",
       "  455,\n",
       "  10.129118432769369,\n",
       "  0.9639830508474576,\n",
       "  1.050512339739636),\n",
       " ('Non Polisemica',\n",
       "  ('(1.2180000000000002, 3.114]_aoa',\n",
       "   '(5.969, 6.939]_familiarity',\n",
       "   '(1.999, 5.0]'),\n",
       "  365,\n",
       "  8.125556544968832,\n",
       "  0.8057395143487859,\n",
       "  0.8780645071457415),\n",
       " ('(1.999, 5.0]',\n",
       "  ('(1.2180000000000002, 3.114]_aoa',\n",
       "   '(5.969, 6.939]_familiarity',\n",
       "   'Non Polisemica'),\n",
       "  365,\n",
       "  8.125556544968832,\n",
       "  0.6358885017421603,\n",
       "  1.6491981234559954),\n",
       " ('(5.969, 6.939]_familiarity',\n",
       "  ('(1.2180000000000002, 3.114]_aoa', '(1.999, 5.0]', 'Non Polisemica'),\n",
       "  365,\n",
       "  8.125556544968832,\n",
       "  0.6347826086956522,\n",
       "  2.566555786013384),\n",
       " ('(1.999, 5.0]',\n",
       "  ('(1.2180000000000002, 3.114]_aoa', '(5.969, 6.939]_familiarity'),\n",
       "  453,\n",
       "  10.084594835262688,\n",
       "  0.6651982378854625,\n",
       "  1.725213905647516),\n",
       " ('(5.969, 6.939]_familiarity',\n",
       "  ('(1.2180000000000002, 3.114]_aoa', '(1.999, 5.0]'),\n",
       "  453,\n",
       "  10.084594835262688,\n",
       "  0.6291666666666667,\n",
       "  2.5438493849384938),\n",
       " ('(1.2180000000000002, 3.114]_aoa',\n",
       "  ('(5.969, 6.939]_familiarity', '(1.999, 5.0]'),\n",
       "  453,\n",
       "  10.084594835262688,\n",
       "  0.8191681735985533,\n",
       "  3.3604597587257548),\n",
       " ('Non Polisemica',\n",
       "  ('(1.2180000000000002, 3.114]_aoa', '(5.969, 6.939]_familiarity'),\n",
       "  574,\n",
       "  12.778272484416743,\n",
       "  0.8428781204111601,\n",
       "  0.9185367580996922),\n",
       " ('(5.969, 6.939]_familiarity',\n",
       "  ('(1.2180000000000002, 3.114]_aoa', 'Non Polisemica'),\n",
       "  574,\n",
       "  12.778272484416743,\n",
       "  0.6178686759956943,\n",
       "  2.4981693002454173),\n",
       " ('(1.999, 5.0]',\n",
       "  ('(1.2180000000000002, 3.114]_aoa', '(1.374, 3.438]_semsize'),\n",
       "  315,\n",
       "  7.012466607301871,\n",
       "  0.6938325991189427,\n",
       "  1.7994780803939323),\n",
       " ('Non Polisemica',\n",
       "  ('(1.2180000000000002, 3.114]_aoa', '(1.374, 3.438]_semsize'),\n",
       "  373,\n",
       "  8.303650934995547,\n",
       "  0.8215859030837004,\n",
       "  0.8953333034090205),\n",
       " ('Non Polisemica',\n",
       "  ('(1.2180000000000002, 3.114]_aoa', '(1.999, 5.0]'),\n",
       "  575,\n",
       "  12.800534283170082,\n",
       "  0.7986111111111112,\n",
       "  0.8702962423850342),\n",
       " ('(1.999, 5.0]',\n",
       "  ('(1.2180000000000002, 3.114]_aoa', 'Non Polisemica'),\n",
       "  575,\n",
       "  12.800534283170082,\n",
       "  0.6189451022604952,\n",
       "  1.6052548495116306),\n",
       " ('Non Polisemica',\n",
       "  ('(5.969, 6.939]_familiarity', '(1.999, 5.0]'),\n",
       "  448,\n",
       "  9.973285841495994,\n",
       "  0.810126582278481,\n",
       "  0.8828453681695625),\n",
       " ('Non Polisemica',\n",
       "  ('(4.562, 5.97]_visual', '(1.999, 5.0]'),\n",
       "  403,\n",
       "  8.971504897595725,\n",
       "  0.7980198019801981,\n",
       "  0.8696518560152958),\n",
       " ('Non Polisemica',\n",
       "  ('(5.21, 5.797]_emotion', '(1.999, 5.0]'),\n",
       "  354,\n",
       "  7.8806767586821005,\n",
       "  0.778021978021978,\n",
       "  0.8478589823567989),\n",
       " ('Non Polisemica',\n",
       "  ('(1.374, 3.438]_semsize', '(2.056, 3.849]_arousal'),\n",
       "  453,\n",
       "  10.084594835262688,\n",
       "  0.8563327032136105,\n",
       "  0.9331990545452544),\n",
       " ('Non Polisemica',\n",
       "  ('(1.374, 3.438]_semsize', '(1.999, 5.0]'),\n",
       "  513,\n",
       "  11.420302760463045,\n",
       "  0.8040752351097179,\n",
       "  0.8762508384553257),\n",
       " ('Non Polisemica',\n",
       "  ('(3.438, 4.186]_semsize', '(1.999, 5.0]'),\n",
       "  397,\n",
       "  8.83793410507569,\n",
       "  0.8135245901639344,\n",
       "  0.8865483888928659),\n",
       " ('Non Polisemica',\n",
       "  ('(5.152, 6.971]_aoa', '(1.6460000000000001, 4.706]_familiarity'),\n",
       "  682,\n",
       "  15.182546749777382,\n",
       "  0.9855491329479769,\n",
       "  1.0740142419219583),\n",
       " ('(1.6460000000000001, 4.706]_familiarity',\n",
       "  ('(5.152, 6.971]_aoa', 'Non Polisemica'),\n",
       "  682,\n",
       "  15.182546749777382,\n",
       "  0.6127583108715184,\n",
       "  2.397657084002492),\n",
       " ('(5.152, 6.971]_aoa',\n",
       "  ('(1.6460000000000001, 4.706]_familiarity', 'Non Polisemica'),\n",
       "  682,\n",
       "  15.182546749777382,\n",
       "  0.6205641492265697,\n",
       "  2.469064799225643),\n",
       " ('Non Polisemica',\n",
       "  ('(5.152, 6.971]_aoa', '(1.802, 3.407]_visual'),\n",
       "  501,\n",
       "  11.153161175422973,\n",
       "  0.9920792079207921,\n",
       "  1.0811304711257153),\n",
       " ('Non Polisemica',\n",
       "  ('(4.334, 5.21]_emotion', '(2.056, 3.849]_arousal'),\n",
       "  474,\n",
       "  10.552092609082814,\n",
       "  0.8681318681318682,\n",
       "  0.9460573390704395),\n",
       " ('Non Polisemica',\n",
       "  ('(4.334, 5.21]_emotion', '(1.999, 5.0]'),\n",
       "  445,\n",
       "  9.906500445235974,\n",
       "  0.8090909090909091,\n",
       "  0.8817167306250275),\n",
       " ('Non Polisemica',\n",
       "  ('(3.114, 4.177]_aoa', '(1.999, 5.0]'),\n",
       "  408,\n",
       "  9.082813891362422,\n",
       "  0.8309572301425662,\n",
       "  0.9055458218826801),\n",
       " ('Non Polisemica',\n",
       "  ('(2.056, 3.849]_arousal', '(1.999, 5.0]'),\n",
       "  433,\n",
       "  9.639358860195903,\n",
       "  0.8139097744360902,\n",
       "  0.886968148172469),\n",
       " ('Non Polisemica',\n",
       "  ('(3.606, 4.121]_gender', '(1.999, 5.0]'),\n",
       "  392,\n",
       "  8.726625111308994,\n",
       "  0.8270042194092827,\n",
       "  0.9012379800064284)]"
      ]
     },
     "execution_count": 17,
     "metadata": {},
     "output_type": "execute_result"
    }
   ],
   "source": [
    "rules[:45]"
   ]
  },
  {
   "cell_type": "code",
   "execution_count": 18,
   "id": "b9a0b78e",
   "metadata": {},
   "outputs": [],
   "source": [
    "rules.sort(key=lambda x: x[5],reverse=True)"
   ]
  },
  {
   "cell_type": "code",
   "execution_count": null,
   "id": "c28bbcc2",
   "metadata": {},
   "outputs": [],
   "source": [
    " "
   ]
  },
  {
   "cell_type": "code",
   "execution_count": 19,
   "id": "d8845449",
   "metadata": {},
   "outputs": [
    {
     "data": {
      "text/plain": [
       "('(1.2180000000000002, 3.114]_aoa',\n",
       " ('(5.969, 6.939]_familiarity', '(1.999, 5.0]'))"
      ]
     },
     "execution_count": 19,
     "metadata": {},
     "output_type": "execute_result"
    }
   ],
   "source": [
    "# <--\n",
    "rules[0][0], rules[0][1]"
   ]
  },
  {
   "cell_type": "code",
   "execution_count": 37,
   "id": "542cbcce",
   "metadata": {},
   "outputs": [
    {
     "data": {
      "text/plain": [
       "Text(0, 0.5, 'rules')"
      ]
     },
     "execution_count": 37,
     "metadata": {},
     "output_type": "execute_result"
    },
    {
     "data": {
      "image/png": "[encoded data removed]",
      "text/plain": [
       "<Figure size 432x288 with 1 Axes>"
      ]
     },
     "metadata": {
      "needs_background": "light"
     },
     "output_type": "display_data"
    }
   ],
   "source": [
    "conf = []\n",
    "for r in rules :\n",
    "    conf.append(r[5])\n",
    "    \n",
    "plt.hist(conf, bins=60, edgecolor='black')\n",
    "plt.xlabel('lift', fontsize=10)\n",
    "plt.ylabel('rules', fontsize=10)"
   ]
  },
  {
   "cell_type": "code",
   "execution_count": 28,
   "id": "c6bc4db4",
   "metadata": {},
   "outputs": [
    {
     "data": {
      "text/plain": [
       "[0.8191681735985533,\n",
       " 0.7714285714285715,\n",
       " 0.7690677966101694,\n",
       " 0.724669603524229,\n",
       " 0.6410256410256411,\n",
       " 0.6239837398373984,\n",
       " 0.6226012793176973,\n",
       " 0.6347826086956522,\n",
       " 0.6291666666666667,\n",
       " 0.6302681992337165,\n",
       " 0.6291913214990138,\n",
       " 0.6178686759956943,\n",
       " 0.6029900332225914,\n",
       " 0.6205641492265697,\n",
       " 0.6127583108715184,\n",
       " 0.6938325991189427,\n",
       " 0.6651982378854625,\n",
       " 0.6358885017421603,\n",
       " 0.6226053639846744,\n",
       " 0.6189451022604952,\n",
       " 0.9920792079207921,\n",
       " 0.9855491329479769,\n",
       " 0.9750830564784053,\n",
       " 0.9639830508474576,\n",
       " 0.9559748427672956,\n",
       " 0.9532520325203252,\n",
       " 0.8884381338742393,\n",
       " 0.8681318681318682,\n",
       " 0.865979381443299,\n",
       " 0.8563327032136105,\n",
       " 0.8544061302681992,\n",
       " 0.8428781204111601,\n",
       " 0.8309572301425662,\n",
       " 0.8270042194092827,\n",
       " 0.8215859030837004,\n",
       " 0.8139097744360902,\n",
       " 0.8135245901639344,\n",
       " 0.810126582278481,\n",
       " 0.8090909090909091,\n",
       " 0.8067061143984221,\n",
       " 0.8057395143487859,\n",
       " 0.8040752351097179,\n",
       " 0.7986111111111112,\n",
       " 0.7980198019801981,\n",
       " 0.778021978021978]"
      ]
     },
     "execution_count": 28,
     "metadata": {},
     "output_type": "execute_result"
    }
   ],
   "source": [
    "conf"
   ]
  },
  {
   "cell_type": "code",
   "execution_count": null,
   "id": "9f223b7b",
   "metadata": {},
   "outputs": [],
   "source": [
    "# asbolute support\n",
    "rules[0][2]"
   ]
  },
  {
   "cell_type": "code",
   "execution_count": null,
   "id": "d1c88b21",
   "metadata": {},
   "outputs": [],
   "source": [
    "# support as percentage\n",
    "rules[0][3]"
   ]
  },
  {
   "cell_type": "code",
   "execution_count": null,
   "id": "11fd354d",
   "metadata": {},
   "outputs": [],
   "source": [
    "# confidence\n",
    "rules[0][4]"
   ]
  },
  {
   "cell_type": "code",
   "execution_count": null,
   "id": "bc925569",
   "metadata": {},
   "outputs": [],
   "source": [
    "# lift\n",
    "rules[0][5]"
   ]
  },
  {
   "cell_type": "code",
   "execution_count": null,
   "id": "9580ce32",
   "metadata": {},
   "outputs": [],
   "source": [
    "rules.sort(key=lambda x: x[4],reverse=True)"
   ]
  },
  {
   "cell_type": "code",
   "execution_count": null,
   "id": "3b1b2337",
   "metadata": {},
   "outputs": [],
   "source": [
    "rules"
   ]
  },
  {
   "cell_type": "code",
   "execution_count": null,
   "id": "145c7fd3",
   "metadata": {},
   "outputs": [],
   "source": [
    "for r in rules:\n",
    "    if r[0] == 'Non Polisemica':\n",
    "        print(r)"
   ]
  },
  {
   "cell_type": "code",
   "execution_count": 5,
   "id": "65a64718",
   "metadata": {},
   "outputs": [],
   "source": [
    "from sklearn.model_selection import train_test_split\n",
    "\n",
    "train,test = train_test_split(df,  random_state=1)"
   ]
  },
  {
   "cell_type": "code",
   "execution_count": null,
   "id": "71adbdbb",
   "metadata": {},
   "outputs": [],
   "source": [
    "df = test \n",
    "df"
   ]
  },
  {
   "cell_type": "code",
   "execution_count": 6,
   "id": "e3ef7a85",
   "metadata": {},
   "outputs": [
    {
     "name": "stderr",
     "output_type": "stream",
     "text": [
      "<ipython-input-6-5b195ac9689b>:1: SettingWithCopyWarning: \n",
      "A value is trying to be set on a copy of a slice from a DataFrame.\n",
      "Try using .loc[row_indexer,col_indexer] = value instead\n",
      "\n",
      "See the caveats in the documentation: https://pandas.pydata.org/pandas-docs/stable/user_guide/indexing.html#returning-a-view-versus-a-copy\n",
      "  test['Predictionele'] = \"NotPredicted\"\n"
     ]
    },
    {
     "data": {
      "text/html": [
       "<div>\n",
       "<style scoped>\n",
       "    .dataframe tbody tr th:only-of-type {\n",
       "        vertical-align: middle;\n",
       "    }\n",
       "\n",
       "    .dataframe tbody tr th {\n",
       "        vertical-align: top;\n",
       "    }\n",
       "\n",
       "    .dataframe thead th {\n",
       "        text-align: right;\n",
       "    }\n",
       "</style>\n",
       "<table border=\"1\" class=\"dataframe\">\n",
       "  <thead>\n",
       "    <tr style=\"text-align: right;\">\n",
       "      <th></th>\n",
       "      <th>Unnamed: 0</th>\n",
       "      <th>length</th>\n",
       "      <th>polysemy</th>\n",
       "      <th>arousal_bin</th>\n",
       "      <th>familiarity_bin</th>\n",
       "      <th>aoa_bin</th>\n",
       "      <th>semsize_bin</th>\n",
       "      <th>gender_bin</th>\n",
       "      <th>emotion_bin</th>\n",
       "      <th>visual_bin</th>\n",
       "      <th>Predictionele</th>\n",
       "    </tr>\n",
       "  </thead>\n",
       "  <tbody>\n",
       "    <tr>\n",
       "      <th>3607</th>\n",
       "      <td>3776</td>\n",
       "      <td>(1.999, 5.0]</td>\n",
       "      <td>Non Polisemica</td>\n",
       "      <td>(5.419, 8.177]_arousal</td>\n",
       "      <td>(5.969, 6.939]_familiarity</td>\n",
       "      <td>(1.2180000000000002, 3.114]_aoa</td>\n",
       "      <td>(3.438, 4.186]_semsize</td>\n",
       "      <td>(0.999, 3.606]_gender</td>\n",
       "      <td>(5.21, 5.797]_emotion</td>\n",
       "      <td>(5.97, 6.925]_visual</td>\n",
       "      <td>NotPredicted</td>\n",
       "    </tr>\n",
       "    <tr>\n",
       "      <th>3326</th>\n",
       "      <td>3488</td>\n",
       "      <td>(6.0, 8.0]</td>\n",
       "      <td>Non Polisemica</td>\n",
       "      <td>(4.571, 5.419]_arousal</td>\n",
       "      <td>(1.6460000000000001, 4.706]_familiarity</td>\n",
       "      <td>(5.152, 6.971]_aoa</td>\n",
       "      <td>(1.374, 3.438]_semsize</td>\n",
       "      <td>(4.656, 6.971]_gender</td>\n",
       "      <td>(1.7790000000000001, 4.334]_emotion</td>\n",
       "      <td>(5.97, 6.925]_visual</td>\n",
       "      <td>NotPredicted</td>\n",
       "    </tr>\n",
       "    <tr>\n",
       "      <th>62</th>\n",
       "      <td>64</td>\n",
       "      <td>(8.0, 16.0]</td>\n",
       "      <td>Non Polisemica</td>\n",
       "      <td>(2.056, 3.849]_arousal</td>\n",
       "      <td>(5.438, 5.969]_familiarity</td>\n",
       "      <td>(4.177, 5.152]_aoa</td>\n",
       "      <td>(3.438, 4.186]_semsize</td>\n",
       "      <td>(3.606, 4.121]_gender</td>\n",
       "      <td>(4.334, 5.21]_emotion</td>\n",
       "      <td>(1.802, 3.407]_visual</td>\n",
       "      <td>NotPredicted</td>\n",
       "    </tr>\n",
       "    <tr>\n",
       "      <th>44</th>\n",
       "      <td>45</td>\n",
       "      <td>(1.999, 5.0]</td>\n",
       "      <td>Non Polisemica</td>\n",
       "      <td>(3.849, 4.571]_arousal</td>\n",
       "      <td>(1.6460000000000001, 4.706]_familiarity</td>\n",
       "      <td>(1.2180000000000002, 3.114]_aoa</td>\n",
       "      <td>(1.374, 3.438]_semsize</td>\n",
       "      <td>(3.606, 4.121]_gender</td>\n",
       "      <td>(5.21, 5.797]_emotion</td>\n",
       "      <td>(5.97, 6.925]_visual</td>\n",
       "      <td>NotPredicted</td>\n",
       "    </tr>\n",
       "    <tr>\n",
       "      <th>1488</th>\n",
       "      <td>1556</td>\n",
       "      <td>(5.0, 6.0]</td>\n",
       "      <td>Non Polisemica</td>\n",
       "      <td>(3.849, 4.571]_arousal</td>\n",
       "      <td>(1.6460000000000001, 4.706]_familiarity</td>\n",
       "      <td>(4.177, 5.152]_aoa</td>\n",
       "      <td>(4.186, 4.882]_semsize</td>\n",
       "      <td>(4.656, 6.971]_gender</td>\n",
       "      <td>(5.21, 5.797]_emotion</td>\n",
       "      <td>(5.97, 6.925]_visual</td>\n",
       "      <td>NotPredicted</td>\n",
       "    </tr>\n",
       "    <tr>\n",
       "      <th>...</th>\n",
       "      <td>...</td>\n",
       "      <td>...</td>\n",
       "      <td>...</td>\n",
       "      <td>...</td>\n",
       "      <td>...</td>\n",
       "      <td>...</td>\n",
       "      <td>...</td>\n",
       "      <td>...</td>\n",
       "      <td>...</td>\n",
       "      <td>...</td>\n",
       "      <td>...</td>\n",
       "    </tr>\n",
       "    <tr>\n",
       "      <th>1677</th>\n",
       "      <td>1757</td>\n",
       "      <td>(8.0, 16.0]</td>\n",
       "      <td>Non Polisemica</td>\n",
       "      <td>(2.056, 3.849]_arousal</td>\n",
       "      <td>(5.438, 5.969]_familiarity</td>\n",
       "      <td>(3.114, 4.177]_aoa</td>\n",
       "      <td>(4.186, 4.882]_semsize</td>\n",
       "      <td>(0.999, 3.606]_gender</td>\n",
       "      <td>(5.21, 5.797]_emotion</td>\n",
       "      <td>(5.97, 6.925]_visual</td>\n",
       "      <td>NotPredicted</td>\n",
       "    </tr>\n",
       "    <tr>\n",
       "      <th>2692</th>\n",
       "      <td>2839</td>\n",
       "      <td>(1.999, 5.0]</td>\n",
       "      <td>Non Polisemica</td>\n",
       "      <td>(2.056, 3.849]_arousal</td>\n",
       "      <td>(1.6460000000000001, 4.706]_familiarity</td>\n",
       "      <td>(5.152, 6.971]_aoa</td>\n",
       "      <td>(1.374, 3.438]_semsize</td>\n",
       "      <td>(0.999, 3.606]_gender</td>\n",
       "      <td>(4.334, 5.21]_emotion</td>\n",
       "      <td>(4.562, 5.97]_visual</td>\n",
       "      <td>NotPredicted</td>\n",
       "    </tr>\n",
       "    <tr>\n",
       "      <th>3409</th>\n",
       "      <td>3573</td>\n",
       "      <td>(1.999, 5.0]</td>\n",
       "      <td>Non Polisemica</td>\n",
       "      <td>(2.056, 3.849]_arousal</td>\n",
       "      <td>(5.969, 6.939]_familiarity</td>\n",
       "      <td>(1.2180000000000002, 3.114]_aoa</td>\n",
       "      <td>(1.374, 3.438]_semsize</td>\n",
       "      <td>(4.121, 4.656]_gender</td>\n",
       "      <td>(4.334, 5.21]_emotion</td>\n",
       "      <td>(5.97, 6.925]_visual</td>\n",
       "      <td>NotPredicted</td>\n",
       "    </tr>\n",
       "    <tr>\n",
       "      <th>3324</th>\n",
       "      <td>3486</td>\n",
       "      <td>(8.0, 16.0]</td>\n",
       "      <td>Non Polisemica</td>\n",
       "      <td>(5.419, 8.177]_arousal</td>\n",
       "      <td>(4.706, 5.438]_familiarity</td>\n",
       "      <td>(5.152, 6.971]_aoa</td>\n",
       "      <td>(4.882, 6.912]_semsize</td>\n",
       "      <td>(4.656, 6.971]_gender</td>\n",
       "      <td>(5.797, 8.147]_emotion</td>\n",
       "      <td>(3.407, 4.562]_visual</td>\n",
       "      <td>NotPredicted</td>\n",
       "    </tr>\n",
       "    <tr>\n",
       "      <th>3363</th>\n",
       "      <td>3525</td>\n",
       "      <td>(1.999, 5.0]</td>\n",
       "      <td>Non Polisemica</td>\n",
       "      <td>(2.056, 3.849]_arousal</td>\n",
       "      <td>(4.706, 5.438]_familiarity</td>\n",
       "      <td>(1.2180000000000002, 3.114]_aoa</td>\n",
       "      <td>(1.374, 3.438]_semsize</td>\n",
       "      <td>(4.656, 6.971]_gender</td>\n",
       "      <td>(4.334, 5.21]_emotion</td>\n",
       "      <td>(5.97, 6.925]_visual</td>\n",
       "      <td>NotPredicted</td>\n",
       "    </tr>\n",
       "  </tbody>\n",
       "</table>\n",
       "<p>1123 rows × 11 columns</p>\n",
       "</div>"
      ],
      "text/plain": [
       "      Unnamed: 0        length        polysemy             arousal_bin  \\\n",
       "3607        3776  (1.999, 5.0]  Non Polisemica  (5.419, 8.177]_arousal   \n",
       "3326        3488    (6.0, 8.0]  Non Polisemica  (4.571, 5.419]_arousal   \n",
       "62            64   (8.0, 16.0]  Non Polisemica  (2.056, 3.849]_arousal   \n",
       "44            45  (1.999, 5.0]  Non Polisemica  (3.849, 4.571]_arousal   \n",
       "1488        1556    (5.0, 6.0]  Non Polisemica  (3.849, 4.571]_arousal   \n",
       "...          ...           ...             ...                     ...   \n",
       "1677        1757   (8.0, 16.0]  Non Polisemica  (2.056, 3.849]_arousal   \n",
       "2692        2839  (1.999, 5.0]  Non Polisemica  (2.056, 3.849]_arousal   \n",
       "3409        3573  (1.999, 5.0]  Non Polisemica  (2.056, 3.849]_arousal   \n",
       "3324        3486   (8.0, 16.0]  Non Polisemica  (5.419, 8.177]_arousal   \n",
       "3363        3525  (1.999, 5.0]  Non Polisemica  (2.056, 3.849]_arousal   \n",
       "\n",
       "                              familiarity_bin  \\\n",
       "3607               (5.969, 6.939]_familiarity   \n",
       "3326  (1.6460000000000001, 4.706]_familiarity   \n",
       "62                 (5.438, 5.969]_familiarity   \n",
       "44    (1.6460000000000001, 4.706]_familiarity   \n",
       "1488  (1.6460000000000001, 4.706]_familiarity   \n",
       "...                                       ...   \n",
       "1677               (5.438, 5.969]_familiarity   \n",
       "2692  (1.6460000000000001, 4.706]_familiarity   \n",
       "3409               (5.969, 6.939]_familiarity   \n",
       "3324               (4.706, 5.438]_familiarity   \n",
       "3363               (4.706, 5.438]_familiarity   \n",
       "\n",
       "                              aoa_bin             semsize_bin  \\\n",
       "3607  (1.2180000000000002, 3.114]_aoa  (3.438, 4.186]_semsize   \n",
       "3326               (5.152, 6.971]_aoa  (1.374, 3.438]_semsize   \n",
       "62                 (4.177, 5.152]_aoa  (3.438, 4.186]_semsize   \n",
       "44    (1.2180000000000002, 3.114]_aoa  (1.374, 3.438]_semsize   \n",
       "1488               (4.177, 5.152]_aoa  (4.186, 4.882]_semsize   \n",
       "...                               ...                     ...   \n",
       "1677               (3.114, 4.177]_aoa  (4.186, 4.882]_semsize   \n",
       "2692               (5.152, 6.971]_aoa  (1.374, 3.438]_semsize   \n",
       "3409  (1.2180000000000002, 3.114]_aoa  (1.374, 3.438]_semsize   \n",
       "3324               (5.152, 6.971]_aoa  (4.882, 6.912]_semsize   \n",
       "3363  (1.2180000000000002, 3.114]_aoa  (1.374, 3.438]_semsize   \n",
       "\n",
       "                 gender_bin                          emotion_bin  \\\n",
       "3607  (0.999, 3.606]_gender                (5.21, 5.797]_emotion   \n",
       "3326  (4.656, 6.971]_gender  (1.7790000000000001, 4.334]_emotion   \n",
       "62    (3.606, 4.121]_gender                (4.334, 5.21]_emotion   \n",
       "44    (3.606, 4.121]_gender                (5.21, 5.797]_emotion   \n",
       "1488  (4.656, 6.971]_gender                (5.21, 5.797]_emotion   \n",
       "...                     ...                                  ...   \n",
       "1677  (0.999, 3.606]_gender                (5.21, 5.797]_emotion   \n",
       "2692  (0.999, 3.606]_gender                (4.334, 5.21]_emotion   \n",
       "3409  (4.121, 4.656]_gender                (4.334, 5.21]_emotion   \n",
       "3324  (4.656, 6.971]_gender               (5.797, 8.147]_emotion   \n",
       "3363  (4.656, 6.971]_gender                (4.334, 5.21]_emotion   \n",
       "\n",
       "                 visual_bin Predictionele  \n",
       "3607   (5.97, 6.925]_visual  NotPredicted  \n",
       "3326   (5.97, 6.925]_visual  NotPredicted  \n",
       "62    (1.802, 3.407]_visual  NotPredicted  \n",
       "44     (5.97, 6.925]_visual  NotPredicted  \n",
       "1488   (5.97, 6.925]_visual  NotPredicted  \n",
       "...                     ...           ...  \n",
       "1677   (5.97, 6.925]_visual  NotPredicted  \n",
       "2692   (4.562, 5.97]_visual  NotPredicted  \n",
       "3409   (5.97, 6.925]_visual  NotPredicted  \n",
       "3324  (3.407, 4.562]_visual  NotPredicted  \n",
       "3363   (5.97, 6.925]_visual  NotPredicted  \n",
       "\n",
       "[1123 rows x 11 columns]"
      ]
     },
     "execution_count": 6,
     "metadata": {},
     "output_type": "execute_result"
    }
   ],
   "source": [
    "test['Predictionele'] = \"NotPredicted\"\n",
    "test"
   ]
  },
  {
   "cell_type": "code",
   "execution_count": null,
   "id": "ac325e00",
   "metadata": {},
   "outputs": [],
   "source": [
    "# ITEMSET PIù freq POLISEMICA\n",
    "#('Polisemica', '(1.2180000000000002, 3.114]_aoa', '(1.999, 5.0]'),\n",
    "#  3.227960819234194),\n",
    "# (('Polisemica', '(5.969, 6.939]_familiarity', '(1.999, 5.0]'),\n",
    "#  2.3374888691006235),\n",
    "# (('Polisemica', '(4.562, 5.97]_visual', '(1.999, 5.0]'), 2.2707034728406055),\n",
    "#(('Polisemica', '(5.21, 5.797]_emotion', '(1.999, 5.0]'), 2.248441674087266),\n",
    "#(('Polisemica', '(1.374, 3.438]_semsize', '(1.999, 5.0]'), 2.782724844167409),\n",
    "# (('Polisemica', '(3.438, 4.186]_semsize', '(1.999, 5.0]'),\n",
    "# 2.0258236865538737),\n",
    "#(('Polisemica', '(4.334, 5.21]_emotion', '(1.999, 5.0]'), 2.3374888691006235),\n",
    "# (('Polisemica', '(2.056, 3.849]_arousal', '(1.999, 5.0]'),\n",
    "#(5.21, 5.797]_emotion',\n",
    "  # '(4.121, 4.656]_gender'"
   ]
  },
  {
   "cell_type": "code",
   "execution_count": 7,
   "id": "0fc6ceb4",
   "metadata": {},
   "outputs": [
    {
     "name": "stderr",
     "output_type": "stream",
     "text": [
      "<ipython-input-7-b4cd504070f0>:2: SettingWithCopyWarning: \n",
      "A value is trying to be set on a copy of a slice from a DataFrame.\n",
      "Try using .loc[row_indexer,col_indexer] = value instead\n",
      "\n",
      "See the caveats in the documentation: https://pandas.pydata.org/pandas-docs/stable/user_guide/indexing.html#returning-a-view-versus-a-copy\n",
      "  test['Predictionele'] = np.where(np.logical_and(test['aoa_bin'] == '(1.2180000000000002, 3.114]_aoa' ,test['familiarity_bin'] == '(5.969, 6.939]_familiarity'),str('Polisemica'),test['Predictionele'])\n"
     ]
    }
   ],
   "source": [
    "#POLISEMICA\n",
    "test['Predictionele'] = np.where(np.logical_and(test['aoa_bin'] == '(1.2180000000000002, 3.114]_aoa' ,test['familiarity_bin'] == '(5.969, 6.939]_familiarity'),str('Polisemica'),test['Predictionele'])\n",
    "#df['Predictionele'] = np.where(np.logical_and(df['aoa_bin'] == '(1.2180000000000002, 3.114]_aoa' ,df['length'] == '(1.999, 5.0]'),str('Polisemica'),df['Predictionele'])\n",
    "#df['Predictionele'] = np.where(np.logical_and(df['familiarity_bin'] == '(5.969, 6.939]_familiarity' ,df['length'] == '(1.999, 5.0]'),str('Polisemica'),df['Predictionele'])\n",
    "#df['Predictionele'] = np.where(np.logical_and(df['visual_bin'] == '(4.562, 5.97]_visual' ,df['length'] == '(1.999, 5.0]'),str('Polisemica'),df['Predictionele'])\n",
    "#df['Predictionele'] = np.where(np.logical_and(df['emotion_bin'] == '(5.21, 5.797]_emotion' ,df['length'] == '(1.999, 5.0]'),str('Polisemica'),df['Predictionele'])\n",
    "#df['Predictionele'] = np.where(np.logical_and(df['emotion_bin'] == '(4.334, 5.21]_emotion' ,df['length'] == '(1.999, 5.0]'),str('Polisemica'),df['Predictionele'])\n",
    "#df['Predictionele'] = np.where(np.logical_and(df['semsize_bin'] == '(1.374, 3.438]_semsize' ,df['length'] == '(1.999, 5.0]'),str('Polisemica'),df['Predictionele'])\n",
    "#df['Predictionele'] = np.where(np.logical_and(df['semsize_bin'] == '(3.438, 4.186]_semsize' ,df['length'] == '(1.999, 5.0]'),str('Polisemica'),df['Predictionele'])\n",
    "#df['Predictionele'] = np.where(np.logical_and(df['gender_bin'] == '(4.121, 4.656]_gender' ,df['length'] == '(1.999, 5.0]'),str('Polisemica'),df['Predictionele'])"
   ]
  },
  {
   "cell_type": "code",
   "execution_count": 8,
   "id": "da07d60d",
   "metadata": {},
   "outputs": [
    {
     "name": "stderr",
     "output_type": "stream",
     "text": [
      "<ipython-input-8-0a2941c32cd3>:6: SettingWithCopyWarning: \n",
      "A value is trying to be set on a copy of a slice from a DataFrame.\n",
      "Try using .loc[row_indexer,col_indexer] = value instead\n",
      "\n",
      "See the caveats in the documentation: https://pandas.pydata.org/pandas-docs/stable/user_guide/indexing.html#returning-a-view-versus-a-copy\n",
      "  test['Predictionele'] = np.where(np.logical_and(test['aoa_bin'] == '(5.152, 6.971]_aoa' ,test['familiarity_bin'] == '(1.6460000000000001, 4.706]_familiarity'),str('Non Polisemica'),test['Predictionele'])\n",
      "<ipython-input-8-0a2941c32cd3>:7: SettingWithCopyWarning: \n",
      "A value is trying to be set on a copy of a slice from a DataFrame.\n",
      "Try using .loc[row_indexer,col_indexer] = value instead\n",
      "\n",
      "See the caveats in the documentation: https://pandas.pydata.org/pandas-docs/stable/user_guide/indexing.html#returning-a-view-versus-a-copy\n",
      "  test['Predictionele'] = np.where(np.logical_and(test['emotion_bin'] == '(5.797, 8.147]_emotion' ,test['semsize_bin'] == '(4.882, 6.912]_semsize'),str('Non Polisemica'),test['Predictionele'])\n",
      "<ipython-input-8-0a2941c32cd3>:8: SettingWithCopyWarning: \n",
      "A value is trying to be set on a copy of a slice from a DataFrame.\n",
      "Try using .loc[row_indexer,col_indexer] = value instead\n",
      "\n",
      "See the caveats in the documentation: https://pandas.pydata.org/pandas-docs/stable/user_guide/indexing.html#returning-a-view-versus-a-copy\n",
      "  test['Predictionele'] = np.where(np.logical_and(test['emotion_bin'] == '(5.797, 8.147]_emotion' ,test['arousal_bin'] == '(5.419, 8.177]_arousal'),str('Non Polisemica'),test['Predictionele'])\n",
      "<ipython-input-8-0a2941c32cd3>:9: SettingWithCopyWarning: \n",
      "A value is trying to be set on a copy of a slice from a DataFrame.\n",
      "Try using .loc[row_indexer,col_indexer] = value instead\n",
      "\n",
      "See the caveats in the documentation: https://pandas.pydata.org/pandas-docs/stable/user_guide/indexing.html#returning-a-view-versus-a-copy\n",
      "  test['Predictionele'] = np.where(np.logical_and(test['emotion_bin'] == '(5.797, 8.147]_emotion' ,test['gender_bin'] == '(0.999, 3.606]_gender'),str('Non Polisemica'),test['Predictionele'])\n",
      "<ipython-input-8-0a2941c32cd3>:10: SettingWithCopyWarning: \n",
      "A value is trying to be set on a copy of a slice from a DataFrame.\n",
      "Try using .loc[row_indexer,col_indexer] = value instead\n",
      "\n",
      "See the caveats in the documentation: https://pandas.pydata.org/pandas-docs/stable/user_guide/indexing.html#returning-a-view-versus-a-copy\n",
      "  test['Predictionele'] = np.where(np.logical_and(test['aoa_bin'] == '(5.152, 6.971]_aoa' ,test['visual_bin'] == '(1.802, 3.407]_visual'),str('Non Polisemica'),test['Predictionele'])\n",
      "<ipython-input-8-0a2941c32cd3>:11: SettingWithCopyWarning: \n",
      "A value is trying to be set on a copy of a slice from a DataFrame.\n",
      "Try using .loc[row_indexer,col_indexer] = value instead\n",
      "\n",
      "See the caveats in the documentation: https://pandas.pydata.org/pandas-docs/stable/user_guide/indexing.html#returning-a-view-versus-a-copy\n",
      "  test['Predictionele']= np.where(test['length']=='(8.0, 16.0]', str('Non Polisemica'),test['Predictionele'])\n"
     ]
    }
   ],
   "source": [
    "#'Non Polisemica', ('(5.152, 6.971]_aoa', '(1.6460000000000001, 4.706]_familiarity'\n",
    "#'Non Polisemica', ('(5.797, 8.147]_emotion', '(4.882, 6.912]_semsize'\n",
    "#'Non Polisemica', ('(5.419, 8.177]_arousal', '(5.797, 8.147]_emotion'\n",
    "#'Non Polisemica', ('(0.999, 3.606]_gender', '(5.797, 8.147]_emotion'\n",
    "#'Non Polisemica', ('(5.152, 6.971]_aoa', '(1.802, 3.407]_visual')\n",
    "test['Predictionele'] = np.where(np.logical_and(test['aoa_bin'] == '(5.152, 6.971]_aoa' ,test['familiarity_bin'] == '(1.6460000000000001, 4.706]_familiarity'),str('Non Polisemica'),test['Predictionele'])\n",
    "test['Predictionele'] = np.where(np.logical_and(test['emotion_bin'] == '(5.797, 8.147]_emotion' ,test['semsize_bin'] == '(4.882, 6.912]_semsize'),str('Non Polisemica'),test['Predictionele'])\n",
    "test['Predictionele'] = np.where(np.logical_and(test['emotion_bin'] == '(5.797, 8.147]_emotion' ,test['arousal_bin'] == '(5.419, 8.177]_arousal'),str('Non Polisemica'),test['Predictionele'])\n",
    "test['Predictionele'] = np.where(np.logical_and(test['emotion_bin'] == '(5.797, 8.147]_emotion' ,test['gender_bin'] == '(0.999, 3.606]_gender'),str('Non Polisemica'),test['Predictionele'])\n",
    "test['Predictionele'] = np.where(np.logical_and(test['aoa_bin'] == '(5.152, 6.971]_aoa' ,test['visual_bin'] == '(1.802, 3.407]_visual'),str('Non Polisemica'),test['Predictionele'])\n",
    "test['Predictionele']= np.where(test['length']=='(8.0, 16.0]', str('Non Polisemica'),test['Predictionele'])"
   ]
  },
  {
   "cell_type": "code",
   "execution_count": null,
   "id": "e8780478",
   "metadata": {},
   "outputs": [],
   "source": [
    "\n"
   ]
  },
  {
   "cell_type": "code",
   "execution_count": null,
   "id": "a2e07004",
   "metadata": {},
   "outputs": [],
   "source": [
    "\n"
   ]
  },
  {
   "cell_type": "code",
   "execution_count": null,
   "id": "b2b2aa15",
   "metadata": {},
   "outputs": [],
   "source": []
  },
  {
   "cell_type": "code",
   "execution_count": 9,
   "id": "bcf4e11e",
   "metadata": {},
   "outputs": [
    {
     "name": "stderr",
     "output_type": "stream",
     "text": [
      "<ipython-input-9-f608b37da486>:1: SettingWithCopyWarning: \n",
      "A value is trying to be set on a copy of a slice from a DataFrame.\n",
      "Try using .loc[row_indexer,col_indexer] = value instead\n",
      "\n",
      "See the caveats in the documentation: https://pandas.pydata.org/pandas-docs/stable/user_guide/indexing.html#returning-a-view-versus-a-copy\n",
      "  test['Predictionele']= np.where(test['Predictionele']=='NotPredicted', str('Non Polisemica'),test['Predictionele'])\n"
     ]
    }
   ],
   "source": [
    "test['Predictionele']= np.where(test['Predictionele']=='NotPredicted', str('Non Polisemica'),test['Predictionele'])"
   ]
  },
  {
   "cell_type": "code",
   "execution_count": null,
   "id": "fe7c5318",
   "metadata": {},
   "outputs": [],
   "source": [
    "df"
   ]
  },
  {
   "cell_type": "code",
   "execution_count": 10,
   "id": "80f5e3bf",
   "metadata": {},
   "outputs": [
    {
     "data": {
      "text/plain": [
       "Non Polisemica    1010\n",
       "Polisemica         113\n",
       "Name: Predictionele, dtype: int64"
      ]
     },
     "execution_count": 10,
     "metadata": {},
     "output_type": "execute_result"
    }
   ],
   "source": [
    "test['Predictionele'].value_counts()"
   ]
  },
  {
   "cell_type": "code",
   "execution_count": 12,
   "id": "60ae2079",
   "metadata": {},
   "outputs": [
    {
     "data": {
      "text/plain": [
       "972"
      ]
     },
     "execution_count": 12,
     "metadata": {},
     "output_type": "execute_result"
    }
   ],
   "source": [
    "#true positive and negative\n",
    "len(test[test.Predictionele == test.polysemy]) "
   ]
  },
  {
   "cell_type": "code",
   "execution_count": 13,
   "id": "c27ef748",
   "metadata": {},
   "outputs": [
    {
     "data": {
      "text/plain": [
       "151"
      ]
     },
     "execution_count": 13,
     "metadata": {},
     "output_type": "execute_result"
    }
   ],
   "source": [
    "#false positive and negative\n",
    "len(test[test.Predictionele != test.polysemy])"
   ]
  },
  {
   "cell_type": "code",
   "execution_count": 14,
   "id": "d3a7f84e",
   "metadata": {},
   "outputs": [],
   "source": [
    "df1= test[test.Predictionele != test.polysemy]"
   ]
  },
  {
   "cell_type": "code",
   "execution_count": 15,
   "id": "e90a4011",
   "metadata": {},
   "outputs": [
    {
     "data": {
      "text/plain": [
       "Polisemica        87\n",
       "Non Polisemica    64\n",
       "Name: Predictionele, dtype: int64"
      ]
     },
     "execution_count": 15,
     "metadata": {},
     "output_type": "execute_result"
    }
   ],
   "source": [
    "#false positive and negative separati\n",
    "df1['Predictionele'].value_counts()"
   ]
  },
  {
   "cell_type": "code",
   "execution_count": 17,
   "id": "e55828f6",
   "metadata": {},
   "outputs": [],
   "source": [
    "df2= test[test.Predictionele == test.polysemy]"
   ]
  },
  {
   "cell_type": "code",
   "execution_count": 18,
   "id": "e5a0f66c",
   "metadata": {},
   "outputs": [
    {
     "data": {
      "text/plain": [
       "Non Polisemica    946\n",
       "Polisemica         26\n",
       "Name: Predictionele, dtype: int64"
      ]
     },
     "execution_count": 18,
     "metadata": {},
     "output_type": "execute_result"
    }
   ],
   "source": [
    "#true positive and negative separati\n",
    "df2['Predictionele'].value_counts()"
   ]
  },
  {
   "cell_type": "code",
   "execution_count": 19,
   "id": "267c4631",
   "metadata": {},
   "outputs": [
    {
     "data": {
      "text/plain": [
       "0.8655387355298308"
      ]
     },
     "execution_count": 19,
     "metadata": {},
     "output_type": "execute_result"
    }
   ],
   "source": [
    "#accuracy TP+TN/TP+TN+FP+FN\n",
    "972 / (972+151)"
   ]
  },
  {
   "cell_type": "code",
   "execution_count": 20,
   "id": "56676d68",
   "metadata": {},
   "outputs": [
    {
     "data": {
      "text/plain": [
       "0.9366336633663367"
      ]
     },
     "execution_count": 20,
     "metadata": {},
     "output_type": "execute_result"
    }
   ],
   "source": [
    "#precision TP / TP+FP       NON POLISEMICA \n",
    "P_nonpol = 946/ (946+64)\n",
    "P_nonpol"
   ]
  },
  {
   "cell_type": "code",
   "execution_count": 21,
   "id": "b2cb58cd",
   "metadata": {},
   "outputs": [
    {
     "data": {
      "text/plain": [
       "0.23008849557522124"
      ]
     },
     "execution_count": 21,
     "metadata": {},
     "output_type": "execute_result"
    }
   ],
   "source": [
    "#precision TP / TP+FP       POLISEMICA\n",
    "P_pol=26/(26+87)\n",
    "P_pol"
   ]
  },
  {
   "cell_type": "code",
   "execution_count": 22,
   "id": "032ff966",
   "metadata": {},
   "outputs": [
    {
     "data": {
      "text/plain": [
       "0.9157792836398838"
      ]
     },
     "execution_count": 22,
     "metadata": {},
     "output_type": "execute_result"
    }
   ],
   "source": [
    "#recall  TP/ TP+FN         NON POLISEMICA\n",
    "R_nonpol = 946 / (946+87)\n",
    "R_nonpol"
   ]
  },
  {
   "cell_type": "code",
   "execution_count": 23,
   "id": "bbbff7e6",
   "metadata": {},
   "outputs": [
    {
     "data": {
      "text/plain": [
       "0.28888888888888886"
      ]
     },
     "execution_count": 23,
     "metadata": {},
     "output_type": "execute_result"
    }
   ],
   "source": [
    "#recall  TP/ TP+FN          POLISEMICA\n",
    "R_pol = 26/ (26+64)\n",
    "R_pol"
   ]
  },
  {
   "cell_type": "code",
   "execution_count": 24,
   "id": "48377640",
   "metadata": {},
   "outputs": [
    {
     "data": {
      "text/plain": [
       "0.25615763546798026"
      ]
     },
     "execution_count": 24,
     "metadata": {},
     "output_type": "execute_result"
    }
   ],
   "source": [
    "# F-measure 2rp / r+p     POLISEMICA\n",
    "\n",
    "(2*R_pol*P_pol) /(R_pol + P_pol)"
   ]
  },
  {
   "cell_type": "code",
   "execution_count": 25,
   "id": "f19be20d",
   "metadata": {},
   "outputs": [
    {
     "data": {
      "text/plain": [
       "0.9260890846793931"
      ]
     },
     "execution_count": 25,
     "metadata": {},
     "output_type": "execute_result"
    }
   ],
   "source": [
    "\n",
    "(2*R_nonpol*P_nonpol) /(R_nonpol + P_nonpol)"
   ]
  },
  {
   "cell_type": "code",
   "execution_count": 38,
   "id": "abfd638a",
   "metadata": {},
   "outputs": [],
   "source": [
    "len_r = []\n",
    "for i in range(1, 20+1): #support\n",
    "    len_r_wrt_i = []\n",
    "    for j in range(60, 80+1): #confidence\n",
    "        rules = apriori(X, target='r', supp=i, zmin=3, conf=j, report='aScl')\n",
    "        \n",
    "        len_r_wrt_i.append(len(rules)) # study your characteristics/properties here\n",
    "        \n",
    "    len_r.append(len_r_wrt_i)"
   ]
  },
  {
   "cell_type": "code",
   "execution_count": 39,
   "id": "f25deb65",
   "metadata": {},
   "outputs": [
    {
     "data": {
      "text/plain": [
       "[4, 4, 1, 0, 0, 0, 0, 0, 0, 0, 0, 0, 0, 0, 0, 0, 0, 0, 0, 0, 0]"
      ]
     },
     "execution_count": 39,
     "metadata": {},
     "output_type": "execute_result"
    }
   ],
   "source": [
    "len_r_wrt_i"
   ]
  },
  {
   "cell_type": "code",
   "execution_count": 40,
   "id": "2e47634d",
   "metadata": {},
   "outputs": [
    {
     "data": {
      "image/png": "[encoded data removed]",
      "text/plain": [
       "<Figure size 432x288 with 2 Axes>"
      ]
     },
     "metadata": {
      "needs_background": "light"
     },
     "output_type": "display_data"
    }
   ],
   "source": [
    "plt.imshow( len_r, cmap='Blues', alpha=0.8 )\n",
    "plt.xlabel('%support', fontsize=20)\n",
    "plt.ylabel('%confidence', fontsize=20)\n",
    "plt.xticks(fontsize=20)\n",
    "plt.yticks( np.arange(0,20+1,4), np.arange(60,80+1,4), fontsize=20  )\n",
    "plt.colorbar()\n",
    "\n",
    "plt.show()"
   ]
  },
  {
   "cell_type": "code",
   "execution_count": null,
   "id": "2111be66",
   "metadata": {},
   "outputs": [],
   "source": [
    "len_ar = []\n",
    "r_wrt_i = []\n",
    "for i in range(1, 20+1): #support\n",
    "    l_r_wrt_i = []\n",
    "    for j in range(40, 80+1): #confidence\n",
    "        rules = apriori(X, target='r', supp=i, zmin=3, conf=j, report='aScl')\n",
    "        for r in rules:\n",
    "            if r[0] == 'Polisemica':\n",
    "                r_wrt_i.append(r)\n",
    "                l_r_wrt_i.append(len(r_wrt_i))\n",
    "        \n",
    "            \n",
    "    len_ar.append(l_r_wrt_i)"
   ]
  },
  {
   "cell_type": "code",
   "execution_count": null,
   "id": "1b5f590d",
   "metadata": {},
   "outputs": [],
   "source": [
    "r_wrt_i"
   ]
  },
  {
   "cell_type": "code",
   "execution_count": null,
   "id": "eeaab8c0",
   "metadata": {},
   "outputs": [],
   "source": [
    "plt.hist( len_ar)\n",
    "plt.xlabel('%support', fontsize=10)\n",
    "plt.ylabel('%confidence', fontsize=10)\n",
    "plt.xticks(fontsize=20)\n",
    "plt.yticks( np.arange(0,20+1,4), np.arange(60,80+1,4), fontsize=10  )\n",
    "#plt.colorbar()\n",
    "\n",
    "plt.show()"
   ]
  },
  {
   "cell_type": "code",
   "execution_count": null,
   "id": "1f30db24",
   "metadata": {},
   "outputs": [],
   "source": []
  }
 ],
 "metadata": {
  "kernelspec": {
   "display_name": "Python 3",
   "language": "python",
   "name": "python3"
  },
  "language_info": {
   "codemirror_mode": {
    "name": "ipython",
    "version": 3
   },
   "file_extension": ".py",
   "mimetype": "text/x-python",
   "name": "python",
   "nbconvert_exporter": "python",
   "pygments_lexer": "ipython3",
   "version": "3.8.8"
  }
 },
 "nbformat": 4,
 "nbformat_minor": 5
}
